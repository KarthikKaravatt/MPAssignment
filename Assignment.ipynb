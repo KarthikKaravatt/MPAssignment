{
 "cells": [
  {
   "cell_type": "markdown",
   "source": [
    "# Assignment 1 #\n",
    "Karthik Karavatt\n",
    "2061996\n",
    "5"
   ],
   "metadata": {
    "collapsed": false
   },
   "id": "227072906891b550"
  },
  {
   "cell_type": "code",
   "execution_count": 148,
   "outputs": [],
   "source": [
    "import cv2 as cv\n",
    "# Read the image\n",
    "img = cv.imread(\"digits.png\")\n",
    "# Convert the image to grayscale\n",
    "img = cv.cvtColor(img, cv.COLOR_BGR2GRAY)"
   ],
   "metadata": {
    "collapsed": false,
    "ExecuteTime": {
     "end_time": "2023-09-30T14:32:17.835044317Z",
     "start_time": "2023-09-30T14:32:17.814665576Z"
    }
   },
   "id": "19764a5e11cfb1b4"
  },
  {
   "cell_type": "markdown",
   "source": [
    "## Task 2.1 Data Preparation "
   ],
   "metadata": {
    "collapsed": false
   },
   "id": "c6938d6978795077"
  },
  {
   "cell_type": "markdown",
   "source": [
    "### 2.1.1\n",
    "Split the image into 5000 images of size 20x20 pixels each. Each image contains a digit.\n",
    "Store this data in a numpy array\n",
    "\n",
    "We know the digit is 20x20 pixels. So we can split the image into 5000 images of size 20x20 pixels each.\n",
    "As the image is 1000x500 pixels, we can split the image into 50 rows and 100 columns."
   ],
   "metadata": {
    "collapsed": false
   },
   "id": "6d0c4a9efd1788a6"
  },
  {
   "cell_type": "code",
   "execution_count": 149,
   "outputs": [],
   "source": [
    "import numpy as np\n",
    "# Split the image into 5000 cells of size 20x20 pixels each\n",
    "data_cells = np.array([np.hsplit(row, 100) for row in np.vsplit(img, 50)])\n",
    "\n",
    "data = np.array(data_cells)"
   ],
   "metadata": {
    "collapsed": false,
    "ExecuteTime": {
     "end_time": "2023-09-30T14:32:17.898646636Z",
     "start_time": "2023-09-30T14:32:17.836593679Z"
    }
   },
   "id": "43df7029e5a18bef"
  },
  {
   "cell_type": "markdown",
   "source": [
    "### 2.1.2\n",
    "Split the data into training and test sets. Use the first 1000 images for training and the rest for testing.\n",
    "Every 5th row is a different digit, there are 5 rows of each digit and the digits go up to 9, we can use one row of each digit for training and the rest for testing. So we take one row from every 5 rows for training and the rest for testing\n",
    "."
   ],
   "metadata": {
    "collapsed": false
   },
   "id": "e32665efa115fd3d"
  },
  {
   "cell_type": "code",
   "execution_count": 150,
   "outputs": [],
   "source": [
    "# Select every 5th row for testing\n",
    "test_data = data[::5]\n",
    "\n",
    "# Select all but every 5th row for training\n",
    "train_data = np.delete(data, np.arange(0, data.shape[0], 5), axis=0)"
   ],
   "metadata": {
    "collapsed": false,
    "ExecuteTime": {
     "end_time": "2023-09-30T14:32:17.898820694Z",
     "start_time": "2023-09-30T14:32:17.894238409Z"
    }
   },
   "id": "8dc09667414a028"
  },
  {
   "cell_type": "markdown",
   "source": [
    "### 2.1.3\n",
    "Write the images to a folders. The images should be written to the train and test directories."
   ],
   "metadata": {
    "collapsed": false
   },
   "id": "5bee6d63f726fa13"
  },
  {
   "cell_type": "code",
   "execution_count": 151,
   "outputs": [],
   "source": [
    "import os\n",
    "import shutil\n",
    "import cv2 as cv\n",
    "\n",
    "# Define your directory paths\n",
    "train_dir = 'train'\n",
    "test_dir = 'test'\n",
    "\n",
    "# If the directories already exist, remove them and their contents\n",
    "for dir_path in [train_dir, test_dir]:\n",
    "    if os.path.exists(dir_path) and os.path.isdir(dir_path):\n",
    "        shutil.rmtree(dir_path)\n",
    "\n",
    "    # Create the directories\n",
    "    os.makedirs(dir_path)\n",
    "\n",
    "# Save your train and test data to the respective directories as JPEGs\n",
    "\n",
    "for i in range(train_data.shape[0]):\n",
    "    for j in range(train_data.shape[1]):\n",
    "        digit = i // 4  # The digit is determined by integer division of the row index by 4\n",
    "        row = i % 4  # The row is determined by the remainder of the row index divided by 4\n",
    "        cv.imwrite(os.path.join(train_dir, f'train_{digit}_{row}_{j}.jpg'), train_data[i, j])\n",
    "\n",
    "for i in range(test_data.shape[0]):\n",
    "    for j in range(test_data.shape[1]):\n",
    "        cv.imwrite(os.path.join(test_dir, f'test_{i}_{j}.jpg'), test_data[i, j])\n",
    "\n",
    "def load_images_to_array(path):\n",
    "    # Get the list of files in the directory\n",
    "    files = os.listdir(path)\n",
    "    # Sort the files\n",
    "    files.sort()\n",
    "    # Load the images into a numpy array\n",
    "    images = np.array([cv.imread(os.path.join(path, file), cv.IMREAD_GRAYSCALE) for file in files])\n",
    "    return images"
   ],
   "metadata": {
    "collapsed": false,
    "ExecuteTime": {
     "end_time": "2023-09-30T14:32:18.102097595Z",
     "start_time": "2023-09-30T14:32:17.894340194Z"
    }
   },
   "id": "67d1edd4bb860809"
  },
  {
   "cell_type": "markdown",
   "source": [
    "## Task 2.2: Nearest Neighbor method for image classification "
   ],
   "metadata": {
    "collapsed": false
   },
   "id": "36c14c7f08734d81"
  },
  {
   "cell_type": "markdown",
   "source": [
    "In this task we will use the k - nearest neighbor method to classify the images in the test set.\n",
    "### 2.2\n",
    "label the images in the training set. The labels should be the digit in the image."
   ],
   "metadata": {
    "collapsed": false
   },
   "id": "5dd1d554d6a2e614"
  },
  {
   "cell_type": "code",
   "execution_count": 152,
   "outputs": [],
   "source": [
    "# Load the images from the train and test directories into numpy arrays\n",
    "train_data = load_images_to_array(train_dir)\n",
    "test_data = load_images_to_array(test_dir)\n",
    "\n",
    "# Reshape the training data to be 2D and convert to float32\n",
    "train_data = train_data.reshape(-1, 400)\n",
    "train_data = np.float32(train_data)\n",
    "\n",
    "# Reshape the test data to be 2D and convert to float32\n",
    "test_data = test_data.reshape(-1, 400)\n",
    "test_data = np.float32(test_data)\n",
    "\n",
    "# Create the labels for the training data\n",
    "train_labels = np.repeat(np.arange(10), 400).reshape(-1, 1)\n",
    "# Create the labels for the test data\n",
    "test_labels = np.repeat(np.arange(10), 100).reshape(-1, 1)\n"
   ],
   "metadata": {
    "collapsed": false,
    "ExecuteTime": {
     "end_time": "2023-09-30T14:32:18.188834495Z",
     "start_time": "2023-09-30T14:32:18.102000195Z"
    }
   },
   "id": "cbb63a57109d24d9"
  },
  {
   "cell_type": "markdown",
   "source": [
    "### 2.3 Implement the k - nearest neighbor method to classify the images in the test set."
   ],
   "metadata": {
    "collapsed": false
   },
   "id": "49e98596259c3ef1"
  },
  {
   "cell_type": "code",
   "execution_count": 153,
   "outputs": [
    {
     "name": "stdout",
     "output_type": "stream",
     "text": [
      "Accuracy is 93.10000000000001%\n",
      "k = 3\n",
      "$\\begin{bmatrix}\n",
      "100&0&0&0&0&0&0&0&0&0\\\\\n",
      "0&98&1&1&0&0&0&0&0&0\\\\\n",
      "2&5&88&0&0&1&0&4&0&0\\\\\n",
      "1&0&2&91&0&3&1&2&0&0\\\\\n",
      "0&1&0&0&90&1&1&0&0&7\\\\\n",
      "0&2&1&6&0&88&1&0&0&2\\\\\n",
      "1&0&0&0&0&0&99&0&0&0\\\\\n",
      "0&3&0&0&1&0&0&92&0&4\\\\\n",
      "0&4&1&1&0&0&0&0&93&1\\\\\n",
      "4&0&0&1&2&0&0&1&0&92\\\\\n",
      "\\end{bmatrix}$\n"
     ]
    }
   ],
   "source": [
    "def get_accuracy_and_confusion_matrix(k):\n",
    "    # Create the kNN model\n",
    "    knn = cv.ml.KNearest_create()\n",
    "    knn.train(train_data, cv.ml.ROW_SAMPLE, train_labels)\n",
    "    ret, result, neighbours, dist = knn.findNearest(test_data, k=k)\n",
    "    # Calculate the accuracy of classification\n",
    "    matches = np.equal(result, test_labels)\n",
    "    correct = np.count_nonzero(matches)\n",
    "    accuracy = correct * (100.0 / result.size)\n",
    "    print(f'Accuracy is {accuracy}%')\n",
    "\n",
    "    # Convert the test labels and the predicted results to integer type\n",
    "    test_labels_int = test_labels.astype(int)\n",
    "    result_int = result.astype(int)\n",
    "\n",
    "    # Get the number of classes\n",
    "    num_classes = len(np.unique(test_labels_int))\n",
    "\n",
    "    # Initialize the confusion matrix\n",
    "    confusion_matrix = np.zeros((num_classes, num_classes), dtype=np.int32)\n",
    "\n",
    "    # Populate the confusion matrix\n",
    "    for j in range(len(test_labels_int)):\n",
    "        confusion_matrix[test_labels_int[j][0]][result_int[j][0]] += 1\n",
    "\n",
    "    # Print the confusion matrix in latex format for markdown\n",
    "    print(f'k = {k}')\n",
    "    print(r'$\\begin{bmatrix}')\n",
    "    for row in confusion_matrix:\n",
    "        for i, col in enumerate(row):\n",
    "            if i == len(row) - 1:\n",
    "                print(f'{col}\\\\\\\\')\n",
    "            else:\n",
    "                print(f'{col}&', end='')\n",
    "    print(r'\\end{bmatrix}$')\n",
    "    print('\\n')\n",
    "\n",
    "get_accuracy_and_confusion_matrix(3)\n",
    "    "
   ],
   "metadata": {
    "collapsed": false,
    "ExecuteTime": {
     "end_time": "2023-09-30T14:32:18.259089029Z",
     "start_time": "2023-09-30T14:32:18.213469247Z"
    }
   },
   "id": "a5c66d5a1b1fc814"
  },
  {
   "cell_type": "markdown",
   "source": [
    "| k  | Accuracy           |\n",
    "|----|--------------------|\n",
    "| 1  | 92.60000000000001% |\n",
    "| 2  | 92.2%              |\n",
    "| 3  | 93.10000000000001% |\n",
    "| 4  | 92.7%              |\n",
    "| 5  | 92.10000000000001% |\n",
    "| 6  | 92.0%              |\n",
    "| 7  | 92.0%              |\n",
    "| 8  | 91.9%              |\n",
    "| 9  | 91.80000000000001% |\n",
    "| 10 | 92.0%              |\n",
    "| 11 | 90.9%              |\n",
    "| 12 | 90.9%              |\n",
    "| 13 | 90.80000000000001% |\n",
    "| 14 | 90.80000000000001% |\n",
    "| 15 | 90.60000000000001% |\n",
    "| 16 | 90.10000000000001% |\n",
    "| 17 | 90.2%              |\n",
    "| 18 | 90.30000000000001% |\n",
    "| 19 | 90.10000000000001% |\n",
    "| 20 | 89.9%              |\n"
   ],
   "metadata": {
    "collapsed": false
   },
   "id": "534bbd61aa26b640"
  },
  {
   "cell_type": "markdown",
   "source": [
    "k = 1\n",
    "$\\begin{bmatrix}\n",
    "98&0&2&0&0&0&0&0&0&0\\\\\n",
    "0&97&2&1&0&0&0&0&0&0\\\\\n",
    "1&3&86&3&1&1&0&4&0&1\\\\\n",
    "0&0&0&93&0&2&1&2&2&0\\\\\n",
    "0&0&0&0&90&1&0&1&0&8\\\\\n",
    "0&1&1&4&0&89&1&0&0&4\\\\\n",
    "1&0&0&0&1&1&97&0&0&0\\\\\n",
    "0&3&0&0&1&0&0&91&0&5\\\\\n",
    "0&2&0&2&0&1&0&0&95&0\\\\\n",
    "3&0&0&0&2&0&1&4&0&90\\\\\n",
    "\\end{bmatrix}$\n",
    "\n",
    "\n",
    "k = 2\n",
    "$\\begin{bmatrix}\n",
    "100&0&0&0&0&0&0&0&0&0\\\\\n",
    "0&98&2&0&0&0&0&0&0&0\\\\\n",
    "3&5&87&0&0&1&0&4&0&0\\\\\n",
    "1&0&3&91&0&1&1&2&1&0\\\\\n",
    "0&1&0&0&95&0&0&2&0&2\\\\\n",
    "0&1&1&9&2&86&0&0&0&1\\\\\n",
    "1&1&0&0&1&2&95&0&0&0\\\\\n",
    "0&4&0&0&2&0&0&93&0&1\\\\\n",
    "0&5&1&1&0&3&0&0&90&0\\\\\n",
    "4&0&0&1&4&0&0&4&0&87\\\\\n",
    "\\end{bmatrix}$\n",
    "\n",
    "\n",
    "k = 3\n",
    "$\\begin{bmatrix}\n",
    "100&0&0&0&0&0&0&0&0&0\\\\\n",
    "0&98&1&1&0&0&0&0&0&0\\\\\n",
    "2&5&88&0&0&1&0&4&0&0\\\\\n",
    "1&0&2&91&0&3&1&2&0&0\\\\\n",
    "0&1&0&0&90&1&1&0&0&7\\\\\n",
    "0&2&1&6&0&88&1&0&0&2\\\\\n",
    "1&0&0&0&0&0&99&0&0&0\\\\\n",
    "0&3&0&0&1&0&0&92&0&4\\\\\n",
    "0&4&1&1&0&0&0&0&93&1\\\\\n",
    "4&0&0&1&2&0&0&1&0&92\\\\\n",
    "\\end{bmatrix}$\n",
    "\n",
    "\n",
    "k = 4\n",
    "$\\begin{bmatrix}\n",
    "100&0&0&0&0&0&0&0&0&0\\\\\n",
    "0&97&1&1&1&0&0&0&0&0\\\\\n",
    "2&7&86&0&0&1&0&4&0&0\\\\\n",
    "1&0&2&92&0&1&1&2&1&0\\\\\n",
    "0&1&0&0&93&0&1&0&0&5\\\\\n",
    "0&2&1&4&0&90&1&0&0&2\\\\\n",
    "1&1&0&0&0&0&98&0&0&0\\\\\n",
    "0&5&0&0&1&0&0&91&0&3\\\\\n",
    "0&3&0&2&0&0&0&0&94&1\\\\\n",
    "1&0&1&2&5&0&2&3&0&86\\\\\n",
    "\\end{bmatrix}$\n",
    "\n",
    "\n",
    "k = 5\n",
    "$\\begin{bmatrix}\n",
    "99&0&0&0&0&0&1&0&0&0\\\\\n",
    "0&98&0&1&0&1&0&0&0&0\\\\\n",
    "2&6&86&0&0&1&0&5&0&0\\\\\n",
    "1&0&2&91&0&2&1&2&1&0\\\\\n",
    "0&2&0&0&90&1&2&0&0&5\\\\\n",
    "0&1&1&5&0&88&2&0&0&3\\\\\n",
    "1&1&0&0&0&0&98&0&0&0\\\\\n",
    "0&4&0&0&1&0&0&92&0&3\\\\\n",
    "0&3&1&3&0&1&1&0&90&1\\\\\n",
    "1&0&1&1&2&0&2&4&0&89\\\\\n",
    "\\end{bmatrix}$\n",
    "\n",
    "\n",
    "k = 6\n",
    "$\\begin{bmatrix}\n",
    "99&0&0&0&0&0&1&0&0&0\\\\\n",
    "0&98&0&1&0&1&0&0&0&0\\\\\n",
    "3&7&86&0&0&0&0&4&0&0\\\\\n",
    "0&0&2&92&0&1&1&2&1&1\\\\\n",
    "0&2&0&0&92&0&2&0&0&4\\\\\n",
    "0&1&1&6&1&88&1&0&0&2\\\\\n",
    "1&1&0&0&0&0&98&0&0&0\\\\\n",
    "0&5&0&0&1&0&0&90&0&4\\\\\n",
    "0&4&1&2&0&2&1&0&89&1\\\\\n",
    "3&0&0&2&2&1&0&4&0&88\\\\\n",
    "\\end{bmatrix}$\n",
    "\n",
    "\n",
    "k = 7\n",
    "$\\begin{bmatrix}\n",
    "98&0&0&0&0&2&0&0&0&0\\\\\n",
    "0&98&1&1&0&0&0&0&0&0\\\\\n",
    "2&7&84&0&0&1&0&6&0&0\\\\\n",
    "0&0&2&92&0&1&1&2&1&1\\\\\n",
    "0&2&0&0&92&0&2&0&0&4\\\\\n",
    "0&1&1&5&0&88&2&0&0&3\\\\\n",
    "1&1&0&0&0&0&98&0&0&0\\\\\n",
    "0&5&0&0&0&0&0&92&0&3\\\\\n",
    "0&4&0&4&0&1&1&0&89&1\\\\\n",
    "2&0&0&1&2&1&0&5&0&89\\\\\n",
    "\\end{bmatrix}$\n",
    "\n",
    "\n",
    "k = 8\n",
    "$\\begin{bmatrix}\n",
    "99&0&0&0&0&0&1&0&0&0\\\\\n",
    "0&97&2&0&1&0&0&0&0&0\\\\\n",
    "2&8&85&0&0&1&0&4&0&0\\\\\n",
    "0&0&2&92&0&1&1&2&1&1\\\\\n",
    "0&3&0&0&90&0&2&0&0&5\\\\\n",
    "0&1&1&7&0&87&1&0&0&3\\\\\n",
    "1&1&0&0&0&0&98&0&0&0\\\\\n",
    "0&5&0&0&0&0&0&92&0&3\\\\\n",
    "0&4&0&2&0&1&1&0&91&1\\\\\n",
    "3&0&0&1&2&0&1&5&0&88\\\\\n",
    "\\end{bmatrix}$\n",
    "\n",
    "\n",
    "k = 9\n",
    "$\\begin{bmatrix}\n",
    "97&0&0&0&0&2&1&0&0&0\\\\\n",
    "0&98&0&1&0&1&0&0&0&0\\\\\n",
    "2&9&84&0&0&1&0&4&0&0\\\\\n",
    "0&0&2&91&0&2&1&2&1&1\\\\\n",
    "0&3&0&0&90&0&2&0&0&5\\\\\n",
    "0&1&1&6&0&88&1&0&0&3\\\\\n",
    "1&1&0&0&0&0&98&0&0&0\\\\\n",
    "0&5&0&0&0&0&0&92&0&3\\\\\n",
    "0&4&0&2&0&2&1&0&90&1\\\\\n",
    "2&0&0&1&1&1&0&5&0&90\\\\\n",
    "\\end{bmatrix}$\n",
    "\n",
    "\n",
    "k = 10\n",
    "$\\begin{bmatrix}\n",
    "98&0&0&0&0&1&1&0&0&0\\\\\n",
    "0&98&0&1&0&1&0&0&0&0\\\\\n",
    "2&9&84&0&0&1&0&4&0&0\\\\\n",
    "1&0&2&92&0&1&1&2&0&1\\\\\n",
    "0&3&0&0&90&0&2&0&0&5\\\\\n",
    "0&1&1&7&1&87&1&0&0&2\\\\\n",
    "1&1&0&0&0&0&98&0&0&0\\\\\n",
    "0&5&0&0&0&0&0&92&0&3\\\\\n",
    "0&4&0&2&0&2&1&0&90&1\\\\\n",
    "2&0&0&1&1&1&0&4&0&91\\\\\n",
    "\\end{bmatrix}$\n",
    "\n",
    "\n",
    "k = 11\n",
    "$\\begin{bmatrix}\n",
    "96&0&0&0&0&2&2&0&0&0\\\\\n",
    "0&98&0&0&0&1&0&0&0&1\\\\\n",
    "3&9&82&0&0&1&0&5&0&0\\\\\n",
    "1&1&1&90&0&2&1&2&0&2\\\\\n",
    "0&3&0&0&90&0&2&0&0&5\\\\\n",
    "0&1&1&7&0&86&1&0&1&3\\\\\n",
    "1&1&0&0&0&0&98&0&0&0\\\\\n",
    "0&6&0&0&1&0&0&90&0&3\\\\\n",
    "0&4&0&2&0&2&1&0&90&1\\\\\n",
    "2&0&0&1&2&1&0&5&0&89\\\\\n",
    "\\end{bmatrix}$\n",
    "\n",
    "\n",
    "k = 12\n",
    "$\\begin{bmatrix}\n",
    "96&0&0&0&0&3&1&0&0&0\\\\\n",
    "0&97&0&0&1&1&0&0&0&1\\\\\n",
    "3&8&82&0&0&1&0&6&0&0\\\\\n",
    "1&1&2&90&0&2&1&2&0&1\\\\\n",
    "0&4&0&0&88&1&2&0&0&5\\\\\n",
    "0&1&1&5&0&89&1&0&0&3\\\\\n",
    "1&1&0&0&0&0&98&0&0&0\\\\\n",
    "0&6&0&0&1&0&0&90&0&3\\\\\n",
    "0&4&0&2&0&2&1&0&90&1\\\\\n",
    "2&0&0&1&3&0&1&4&0&89\\\\\n",
    "\\end{bmatrix}$\n",
    "\n",
    "\n",
    "k = 13\n",
    "$\\begin{bmatrix}\n",
    "96&0&0&0&0&2&2&0&0&0\\\\\n",
    "0&98&0&0&0&1&0&0&0&1\\\\\n",
    "3&9&80&0&0&1&0&7&0&0\\\\\n",
    "1&1&1&91&0&1&1&3&0&1\\\\\n",
    "0&4&0&0&90&0&2&0&0&4\\\\\n",
    "0&1&1&5&1&88&1&0&0&3\\\\\n",
    "1&1&0&0&0&0&98&0&0&0\\\\\n",
    "0&6&0&0&0&0&0&91&0&3\\\\\n",
    "0&3&0&4&0&3&1&0&88&1\\\\\n",
    "2&0&1&1&2&0&1&5&0&88\\\\\n",
    "\\end{bmatrix}$\n",
    "\n",
    "\n",
    "k = 14\n",
    "$\\begin{bmatrix}\n",
    "96&0&0&0&0&2&2&0&0&0\\\\\n",
    "0&98&0&0&0&1&0&1&0&0\\\\\n",
    "2&9&81&0&0&1&0&6&1&0\\\\\n",
    "1&1&1&91&0&1&1&3&0&1\\\\\n",
    "0&4&0&0&87&1&2&0&0&6\\\\\n",
    "0&1&1&5&1&88&1&0&0&3\\\\\n",
    "1&1&0&0&0&0&98&0&0&0\\\\\n",
    "0&6&0&0&0&0&0&91&0&3\\\\\n",
    "0&3&0&3&0&3&1&0&89&1\\\\\n",
    "2&0&0&1&3&0&1&4&0&89\\\\\n",
    "\\end{bmatrix}$\n",
    "\n",
    "\n",
    "k = 15\n",
    "$\\begin{bmatrix}\n",
    "96&0&0&0&0&2&2&0&0&0\\\\\n",
    "0&97&0&0&1&1&0&0&0&1\\\\\n",
    "2&9&81&0&0&1&0&6&0&1\\\\\n",
    "1&1&1&91&0&1&1&3&0&1\\\\\n",
    "0&4&0&0&90&0&2&0&0&4\\\\\n",
    "0&1&1&6&0&86&2&0&0&4\\\\\n",
    "1&1&0&0&0&0&98&0&0&0\\\\\n",
    "0&7&0&0&1&0&0&88&0&4\\\\\n",
    "0&3&0&3&0&3&1&0&89&1\\\\\n",
    "2&0&0&1&1&0&1&5&0&90\\\\\n",
    "\\end{bmatrix}$\n",
    "\n",
    "\n",
    "k = 16\n",
    "$\\begin{bmatrix}\n",
    "96&0&0&0&0&2&2&0&0&0\\\\\n",
    "0&97&0&0&1&1&0&0&0&1\\\\\n",
    "2&9&80&0&0&1&0&6&1&1\\\\\n",
    "1&1&1&89&0&2&1&3&0&2\\\\\n",
    "0&4&0&0&88&0&2&0&0&6\\\\\n",
    "0&1&1&5&0&88&1&0&0&4\\\\\n",
    "1&1&0&0&0&1&97&0&0&0\\\\\n",
    "0&7&0&0&1&0&0&88&0&4\\\\\n",
    "0&5&0&4&0&2&1&0&87&1\\\\\n",
    "2&0&0&1&1&0&1&4&0&91\\\\\n",
    "\\end{bmatrix}$\n",
    "\n",
    "\n",
    "k = 17\n",
    "$\\begin{bmatrix}\n",
    "96&0&0&0&0&2&2&0&0&0\\\\\n",
    "0&97&0&0&1&1&0&1&0&0\\\\\n",
    "3&9&79&0&0&1&0&6&1&1\\\\\n",
    "1&1&2&87&0&2&1&3&0&3\\\\\n",
    "0&4&0&0&90&0&2&0&0&4\\\\\n",
    "0&1&1&6&1&86&2&0&0&3\\\\\n",
    "1&1&0&0&0&1&97&0&0&0\\\\\n",
    "0&6&0&0&1&0&0&90&0&3\\\\\n",
    "0&3&0&3&0&3&1&0&89&1\\\\\n",
    "2&0&0&1&1&0&1&4&0&91\\\\\n",
    "\\end{bmatrix}$\n",
    "\n",
    "\n",
    "k = 18\n",
    "$\\begin{bmatrix}\n",
    "96&0&0&0&0&2&2&0&0&0\\\\\n",
    "0&97&0&0&1&1&0&1&0&0\\\\\n",
    "2&9&81&0&0&1&0&5&1&1\\\\\n",
    "1&1&2&85&0&3&1&3&0&4\\\\\n",
    "0&4&0&0&90&0&2&0&0&4\\\\\n",
    "0&1&1&6&1&87&1&0&0&3\\\\\n",
    "1&1&0&0&0&1&97&0&0&0\\\\\n",
    "0&6&0&0&1&0&0&90&0&3\\\\\n",
    "0&3&0&3&0&3&1&0&89&1\\\\\n",
    "2&1&0&1&1&0&1&3&0&91\\\\\n",
    "\\end{bmatrix}$\n",
    "\n",
    "\n",
    "k = 19\n",
    "$\\begin{bmatrix}\n",
    "96&0&0&0&0&2&2&0&0&0\\\\\n",
    "0&97&0&0&1&1&0&1&0&0\\\\\n",
    "2&9&81&0&0&1&0&5&1&1\\\\\n",
    "1&1&2&85&0&3&1&3&0&4\\\\\n",
    "0&4&0&0&91&0&2&0&0&3\\\\\n",
    "0&1&1&6&1&86&2&0&0&3\\\\\n",
    "1&1&0&0&0&1&97&0&0&0\\\\\n",
    "0&7&0&0&1&0&0&89&0&3\\\\\n",
    "0&3&0&3&0&3&1&0&89&1\\\\\n",
    "2&1&0&1&1&0&1&4&0&90\\\\\n",
    "\\end{bmatrix}$\n",
    "\n",
    "\n",
    "k = 20\n",
    "$\\begin{bmatrix}\n",
    "96&0&1&0&0&2&1&0&0&0\\\\\n",
    "0&97&0&0&1&1&0&0&0&1\\\\\n",
    "2&9&81&0&0&1&0&5&1&1\\\\\n",
    "1&1&2&85&0&3&1&3&0&4\\\\\n",
    "0&4&0&0&90&0&2&0&0&4\\\\\n",
    "0&1&1&6&1&87&1&0&0&3\\\\\n",
    "1&1&0&0&0&1&97&0&0&0\\\\\n",
    "0&7&0&0&1&0&0&89&0&3\\\\\n",
    "0&4&0&3&0&4&1&0&87&1\\\\\n",
    "2&1&0&1&1&0&1&4&0&90\\\\\n",
    "\\end{bmatrix}$\n",
    "\n"
   ],
   "metadata": {
    "collapsed": false
   },
   "id": "d2c09639f1cae464"
  },
  {
   "cell_type": "markdown",
   "source": [
    "### 2.3 Linear classifier for image classification\n",
    "We will use support vector machines to classify the images in the test set."
   ],
   "metadata": {
    "collapsed": false
   },
   "id": "22889364feab4a34"
  },
  {
   "cell_type": "code",
   "execution_count": 163,
   "outputs": [
    {
     "name": "stdout",
     "output_type": "stream",
     "text": [
      "Accuracy is 87.10000000000001%\n"
     ]
    }
   ],
   "source": [
    "# load the data\n",
    "train_data = load_images_to_array(train_dir)\n",
    "test_data = load_images_to_array(test_dir)\n",
    "# create the labels\n",
    "train_labels = np.repeat(np.arange(10), 400).reshape(-1, 1)\n",
    "test_labels = np.repeat(np.arange(10), 100).reshape(-1, 1)\n",
    "# reshape the data\n",
    "train_data = train_data.reshape(-1, 400)\n",
    "train_data = np.float32(train_data)\n",
    "test_data = test_data.reshape(-1, 400)\n",
    "test_data = np.float32(test_data)\n",
    "\n",
    "# train SVM\n",
    "svm = cv.ml.SVM_create()\n",
    "svm.setKernel(cv.ml.SVM_LINEAR)\n",
    "svm.setType(cv.ml.SVM_C_SVC)\n",
    "svm.setTermCriteria((cv.TERM_CRITERIA_MAX_ITER, 100, 1e-6))\n",
    "svm.train(train_data, cv.ml.ROW_SAMPLE, train_labels)\n",
    "\n",
    "# predict the labels\n",
    "result = svm.predict(test_data)[1]\n",
    "# calculate the accuracy\n",
    "matches = np.equal(result, test_labels)\n",
    "correct = np.count_nonzero(matches)\n",
    "accuracy = correct * (100.0 / result.size)\n",
    "print(f'Accuracy is {accuracy}% ')\n"
   ],
   "metadata": {
    "collapsed": false,
    "ExecuteTime": {
     "end_time": "2023-09-30T15:43:42.046930199Z",
     "start_time": "2023-09-30T15:43:41.642017364Z"
    }
   },
   "id": "a6afb2f665f9f1be"
  },
  {
   "cell_type": "markdown",
   "source": [
    "The accuracy is lower than the k nearest neighbor method when k = 3 "
   ],
   "metadata": {
    "collapsed": false
   },
   "id": "a68b858ac4b276f1"
  },
  {
   "cell_type": "markdown",
   "source": [
    "### 2.4 Image classification using a bag of visual words"
   ],
   "metadata": {
    "collapsed": false
   },
   "id": "e93a85526462cd57"
  },
  {
   "cell_type": "code",
   "execution_count": null,
   "outputs": [],
   "source": [],
   "metadata": {
    "collapsed": false
   },
   "id": "92b4e20758c1ea92"
  }
 ],
 "metadata": {
  "kernelspec": {
   "display_name": "Python 3",
   "language": "python",
   "name": "python3"
  },
  "language_info": {
   "codemirror_mode": {
    "name": "ipython",
    "version": 2
   },
   "file_extension": ".py",
   "mimetype": "text/x-python",
   "name": "python",
   "nbconvert_exporter": "python",
   "pygments_lexer": "ipython2",
   "version": "2.7.6"
  }
 },
 "nbformat": 4,
 "nbformat_minor": 5
}
