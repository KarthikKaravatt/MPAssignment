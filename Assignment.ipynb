{
 "cells": [
  {
   "cell_type": "markdown",
   "source": [
    "# Assignment 1 #\n",
    "Karthik Karavatt\n",
    "2061996\n",
    "5"
   ],
   "metadata": {
    "collapsed": false
   },
   "id": "227072906891b550"
  },
  {
   "cell_type": "code",
   "execution_count": 79,
   "outputs": [],
   "source": [
    "import cv2 as cv\n",
    "# Read the image\n",
    "img = cv.imread(\"digits.png\")\n",
    "# Convert the image to grayscale\n",
    "img = cv.cvtColor(img, cv.COLOR_BGR2GRAY)"
   ],
   "metadata": {
    "collapsed": false,
    "ExecuteTime": {
     "end_time": "2023-09-30T08:13:19.193655636Z",
     "start_time": "2023-09-30T08:13:19.175403651Z"
    }
   },
   "id": "19764a5e11cfb1b4"
  },
  {
   "cell_type": "markdown",
   "source": [
    "## Task 1 Data Preparation "
   ],
   "metadata": {
    "collapsed": false
   },
   "id": "c6938d6978795077"
  },
  {
   "cell_type": "markdown",
   "source": [
    "### 1.1 \n",
    "Split the image into 5000 images of size 20x20 pixels each. Each image contains a digit.\n",
    "Store this data in a numpy array\n",
    "\n",
    "We know the digit is 20x20 pixels. So we can split the image into 5000 images of size 20x20 pixels each.\n",
    "As the image is 1000x500 pixels, we can split the image into 50 rows and 100 columns."
   ],
   "metadata": {
    "collapsed": false
   },
   "id": "6d0c4a9efd1788a6"
  },
  {
   "cell_type": "code",
   "execution_count": 80,
   "outputs": [],
   "source": [
    "import numpy as np\n",
    "# Split the image into 5000 cells of size 20x20 pixels each\n",
    "data_cells = np.array([np.hsplit(row, 100) for row in np.vsplit(img, 50)])\n",
    "\n",
    "data = np.array(data_cells)"
   ],
   "metadata": {
    "collapsed": false,
    "ExecuteTime": {
     "end_time": "2023-09-30T08:13:19.234811559Z",
     "start_time": "2023-09-30T08:13:19.233396122Z"
    }
   },
   "id": "43df7029e5a18bef"
  },
  {
   "cell_type": "markdown",
   "source": [
    "### 1.2\n",
    "Split the data into training and test sets. Use the first 1000 images for training and the rest for testing.\n",
    "Every 5th row is a different digit, there are 5 rows of each digit and the digits go up to 9, we can use one row of each digit for training and the rest for testing. So we take one row from every 5 rows for training and the rest for testing\n",
    "."
   ],
   "metadata": {
    "collapsed": false
   },
   "id": "e32665efa115fd3d"
  },
  {
   "cell_type": "code",
   "execution_count": 81,
   "outputs": [],
   "source": [
    "# Select every 5th row for testing\n",
    "test_data = data[::5]\n",
    "\n",
    "# Select all but every 5th row for training\n",
    "train_data = np.delete(data, np.arange(0, data.shape[0], 5), axis=0)"
   ],
   "metadata": {
    "collapsed": false,
    "ExecuteTime": {
     "end_time": "2023-09-30T08:13:19.234943886Z",
     "start_time": "2023-09-30T08:13:19.233526294Z"
    }
   },
   "id": "8dc09667414a028"
  },
  {
   "cell_type": "markdown",
   "source": [
    "### 1.3\n",
    "Write the images to a folders. The images should be written to the train and test directories."
   ],
   "metadata": {
    "collapsed": false
   },
   "id": "5bee6d63f726fa13"
  },
  {
   "cell_type": "code",
   "execution_count": 82,
   "outputs": [],
   "source": [
    "import os\n",
    "import shutil\n",
    "import cv2 as cv\n",
    "\n",
    "# Define your directory paths\n",
    "train_dir = 'train'\n",
    "test_dir = 'test'\n",
    "\n",
    "# If the directories already exist, remove them and their contents\n",
    "for dir_path in [train_dir, test_dir]:\n",
    "    if os.path.exists(dir_path) and os.path.isdir(dir_path):\n",
    "        shutil.rmtree(dir_path)\n",
    "\n",
    "    # Create the directories\n",
    "    os.makedirs(dir_path)\n",
    "\n",
    "# Save your train and test data to the respective directories as JPEGs\n",
    "\n",
    "for i in range(train_data.shape[0]):\n",
    "    for j in range(train_data.shape[1]):\n",
    "        digit = i // 4  # The digit is determined by integer division of the row index by 4\n",
    "        row = i % 4  # The row is determined by the remainder of the row index divided by 4\n",
    "        cv.imwrite(os.path.join(train_dir, f'train_{digit}_{row}_{j}.jpg'), train_data[i, j])\n",
    "\n",
    "for i in range(test_data.shape[0]):\n",
    "    for j in range(test_data.shape[1]):\n",
    "        cv.imwrite(os.path.join(test_dir, f'test_{i}_{j}.jpg'), test_data[i, j])\n"
   ],
   "metadata": {
    "collapsed": false,
    "ExecuteTime": {
     "end_time": "2023-09-30T08:13:19.453356665Z",
     "start_time": "2023-09-30T08:13:19.233569274Z"
    }
   },
   "id": "67d1edd4bb860809"
  },
  {
   "cell_type": "markdown",
   "source": [
    "## Task 2: Nearest Neighbor method for image classification "
   ],
   "metadata": {
    "collapsed": false
   },
   "id": "36c14c7f08734d81"
  },
  {
   "cell_type": "markdown",
   "source": [
    "In this task we will use the k - nearest neighbor method to classify the images in the test set.\n",
    "### 2.1\n",
    "label the images in the training set. The labels should be the digit in the image."
   ],
   "metadata": {
    "collapsed": false
   },
   "id": "5dd1d554d6a2e614"
  },
  {
   "cell_type": "code",
   "execution_count": 83,
   "outputs": [],
   "source": [
    "# Reshape the training data to be 2D and convert to float32\n",
    "train_data = train_data.reshape(-1, 400)\n",
    "train_data = np.float32(train_data)\n",
    "\n",
    "# Reshape the test data to be 2D and convert to float32\n",
    "test_data = test_data.reshape(-1, 400)\n",
    "test_data = np.float32(test_data)\n",
    "\n",
    "# Create the labels for the training data\n",
    "train_labels = np.repeat(np.arange(10), 400).reshape(-1, 1)\n",
    "# Create the labels for the test data\n",
    "test_labels = np.repeat(np.arange(10), 100).reshape(-1, 1)\n"
   ],
   "metadata": {
    "collapsed": false,
    "ExecuteTime": {
     "end_time": "2023-09-30T08:13:19.454350758Z",
     "start_time": "2023-09-30T08:13:19.432010249Z"
    }
   },
   "id": "cbb63a57109d24d9"
  },
  {
   "cell_type": "markdown",
   "source": [
    "### 2.2 Implement the k - nearest neighbor method to classify the images in the test set."
   ],
   "metadata": {
    "collapsed": false
   },
   "id": "49e98596259c3ef1"
  },
  {
   "cell_type": "code",
   "execution_count": 84,
   "outputs": [
    {
     "name": "stdout",
     "output_type": "stream",
     "text": [
      "Accuracy is 92.60000000000001%\n"
     ]
    }
   ],
   "source": [
    "# Create the kNN model\n",
    "knn = cv.ml.KNearest_create()\n",
    "knn.train(train_data, cv.ml.ROW_SAMPLE, train_labels)\n",
    "ret, result, neighbours, dist = knn.findNearest(test_data, k=1)\n",
    "# Calculate the accuracy of classification\n",
    "matches = np.equal(result, test_labels)\n",
    "correct = np.count_nonzero(matches)\n",
    "accuracy = correct * (100.0 / result.size)\n",
    "print(f'Accuracy is {accuracy}%')"
   ],
   "metadata": {
    "collapsed": false,
    "ExecuteTime": {
     "end_time": "2023-09-30T08:13:19.498240098Z",
     "start_time": "2023-09-30T08:13:19.438469184Z"
    }
   },
   "id": "a5c66d5a1b1fc814"
  },
  {
   "cell_type": "markdown",
   "source": [],
   "metadata": {
    "collapsed": false
   },
   "id": "32ad9650fb96b875"
  }
 ],
 "metadata": {
  "kernelspec": {
   "display_name": "Python 3",
   "language": "python",
   "name": "python3"
  },
  "language_info": {
   "codemirror_mode": {
    "name": "ipython",
    "version": 2
   },
   "file_extension": ".py",
   "mimetype": "text/x-python",
   "name": "python",
   "nbconvert_exporter": "python",
   "pygments_lexer": "ipython2",
   "version": "2.7.6"
  }
 },
 "nbformat": 4,
 "nbformat_minor": 5
}
