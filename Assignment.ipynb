{
 "cells": [
  {
   "cell_type": "markdown",
   "source": [
    "# Assignment 1 #\n",
    "Karthik Karavatt\n",
    "2061996\n",
    "5"
   ],
   "metadata": {
    "collapsed": false
   },
   "id": "227072906891b550"
  },
  {
   "cell_type": "code",
   "execution_count": 69,
   "outputs": [],
   "source": [
    "import cv2 as cv\n",
    "# Read the image\n",
    "img = cv.imread(\"digits.png\")"
   ],
   "metadata": {
    "collapsed": false,
    "ExecuteTime": {
     "end_time": "2023-09-29T17:07:58.889518650Z",
     "start_time": "2023-09-29T17:07:58.833014136Z"
    }
   },
   "id": "19764a5e11cfb1b4"
  },
  {
   "cell_type": "markdown",
   "source": [
    "## Task 1 Data Preparation "
   ],
   "metadata": {
    "collapsed": false
   },
   "id": "c6938d6978795077"
  },
  {
   "cell_type": "markdown",
   "source": [
    "### 1.1 \n",
    "Split the image into 5000 images of size 20x20 pixels each. Each image contains a digit.\n",
    "Store this data in a numpy array\n",
    "\n",
    "We know the digit is 20x20 pixels. So we can split the image into 5000 images of size 20x20 pixels each.\n",
    "As the image is 1000x500 pixels, we can split the image into 50 rows and 100 columns."
   ],
   "metadata": {
    "collapsed": false
   },
   "id": "6d0c4a9efd1788a6"
  },
  {
   "cell_type": "code",
   "execution_count": 70,
   "outputs": [],
   "source": [
    "import numpy as np\n",
    "\n",
    "rows, cols, _ = img.shape\n",
    "size = 20\n",
    "\n",
    "num_rows = rows // size\n",
    "num_cols = cols // size\n",
    "\n",
    "data = np.empty((num_rows, num_cols, size, size, 3), dtype=img.dtype)\n",
    "\n",
    "for i in range(num_rows):\n",
    "    for j in range(num_cols):\n",
    "        data[i, j] = img[i*size:(i+1)*size, j*size:(j+1)*size]"
   ],
   "metadata": {
    "collapsed": false,
    "ExecuteTime": {
     "end_time": "2023-09-29T17:07:58.889963769Z",
     "start_time": "2023-09-29T17:07:58.889282704Z"
    }
   },
   "id": "43df7029e5a18bef"
  },
  {
   "cell_type": "markdown",
   "source": [
    "### 1.2\n",
    "Split the data into training and test sets. Use the first 1000 images for training and the rest for testing.\n",
    "As each row is a different digit, there are 5 rows of each digit and the digits go up to 9, we can use one row of each digit for training and the rest for testing. So we take one row from every 5 rows for training and the rest for testing\n",
    "."
   ],
   "metadata": {
    "collapsed": false
   },
   "id": "e32665efa115fd3d"
  },
  {
   "cell_type": "code",
   "execution_count": 71,
   "outputs": [],
   "source": [
    "# Select every 5th row for testing\n",
    "test_data = data[::5]\n",
    "\n",
    "# Select all but every 5th row for training\n",
    "train_data = np.delete(data, np.arange(0, data.shape[0], 5), axis=0)"
   ],
   "metadata": {
    "collapsed": false,
    "ExecuteTime": {
     "end_time": "2023-09-29T17:07:58.890351161Z",
     "start_time": "2023-09-29T17:07:58.889715550Z"
    }
   },
   "id": "8dc09667414a028"
  },
  {
   "cell_type": "markdown",
   "source": [
    "### 1.3\n",
    "Write the images to a file concurrently using threads. The images should be written to the train and test directories."
   ],
   "metadata": {
    "collapsed": false
   },
   "id": "5bee6d63f726fa13"
  },
  {
   "cell_type": "code",
   "execution_count": 72,
   "outputs": [],
   "source": [
    "import os\n",
    "import glob\n",
    "import cv2 as cv\n",
    "import concurrent.futures\n",
    "\n",
    "# Specify the directories\n",
    "directories = ['train', 'test']\n",
    "\n",
    "for directory in directories:\n",
    "    # Check if the directory exists\n",
    "    if os.path.exists(directory):\n",
    "        # Use glob to match the file pattern 'jpg'\n",
    "        files = glob.glob(f'{directory}/*.jpg')\n",
    "\n",
    "        # Use os.remove() to delete each file\n",
    "        for file in files:\n",
    "            os.remove(file)\n",
    "\n",
    "# Create directories for the train and test images\n",
    "os.makedirs('train', exist_ok=True)\n",
    "os.makedirs('test', exist_ok=True)\n",
    "\n",
    "def write_image(directory, i, j, data):\n",
    "    cv.imwrite(f'{directory}/img_{i}_{j}.jpg', data[i, j])\n",
    "\n",
    "# Write the training images to the 'train' directory\n",
    "with concurrent.futures.ThreadPoolExecutor() as executor:\n",
    "    for i in range(train_data.shape[0]):\n",
    "        for j in range(train_data.shape[1]):\n",
    "            executor.submit(write_image, 'train', i, j, train_data)\n",
    "\n",
    "# Write the testing images to the 'test' directory\n",
    "with concurrent.futures.ThreadPoolExecutor() as executor:\n",
    "    for i in range(test_data.shape[0]):\n",
    "        for j in range(test_data.shape[1]):\n",
    "            executor.submit(write_image, 'test', i, j, test_data)\n"
   ],
   "metadata": {
    "collapsed": false,
    "ExecuteTime": {
     "end_time": "2023-09-29T17:07:59.176882079Z",
     "start_time": "2023-09-29T17:07:58.889852766Z"
    }
   },
   "id": "67d1edd4bb860809"
  },
  {
   "cell_type": "markdown",
   "source": [],
   "metadata": {
    "collapsed": false
   },
   "id": "48520e40859bd2d2"
  }
 ],
 "metadata": {
  "kernelspec": {
   "display_name": "Python 3",
   "language": "python",
   "name": "python3"
  },
  "language_info": {
   "codemirror_mode": {
    "name": "ipython",
    "version": 2
   },
   "file_extension": ".py",
   "mimetype": "text/x-python",
   "name": "python",
   "nbconvert_exporter": "python",
   "pygments_lexer": "ipython2",
   "version": "2.7.6"
  }
 },
 "nbformat": 4,
 "nbformat_minor": 5
}
